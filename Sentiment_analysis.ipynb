{
 "cells": [
  {
   "cell_type": "code",
   "execution_count": 29,
   "metadata": {},
   "outputs": [
    {
     "name": "stdout",
     "output_type": "stream",
     "text": [
      "[nltk_data] Downloading package stopwords to /home/raman/nltk_data...\n",
      "[nltk_data]   Unzipping corpora/stopwords.zip.\n"
     ]
    },
    {
     "data": {
      "text/plain": [
       "True"
      ]
     },
     "execution_count": 29,
     "metadata": {},
     "output_type": "execute_result"
    }
   ],
   "source": [
    "import nltk\n",
    "nltk.download('stopwords')"
   ]
  },
  {
   "cell_type": "code",
   "execution_count": 143,
   "metadata": {},
   "outputs": [],
   "source": [
    "from os import listdir\n",
    "from nltk.corpus import stopwords\n",
    "from string import punctuation\n",
    "from collections import Counter\n",
    "import matplotlib.pyplot as plt\n",
    "%matplotlib inline\n"
   ]
  },
  {
   "cell_type": "code",
   "execution_count": 92,
   "metadata": {},
   "outputs": [],
   "source": [
    "#Load a single document\n",
    "def load_doc(filename):\n",
    "    #open file in read mode\n",
    "    file = open(filename, 'r')\n",
    "    #read text\n",
    "    text = file.read()\n",
    "    #close file\n",
    "    file.close()\n",
    "    return text"
   ]
  },
  {
   "cell_type": "code",
   "execution_count": 93,
   "metadata": {},
   "outputs": [],
   "source": [
    "#Clean the document : Returns tokens\n",
    "def clean_doc(doc):\n",
    "    tokens = doc.split()\n",
    "    table = str.maketrans('','',punctuation)\n",
    "    tokens = [w.translate(table) for w in tokens]\n",
    "    #remove tokens that are not alphabetic\n",
    "    tokens = [word for word in tokens if word.isalpha()]\n",
    "    #filter out stop words\n",
    "    stop_words = set(stopwords.words('english'))\n",
    "    tokens = [w for w in tokens if not w in stop_words]\n",
    "    #filter out short tokens\n",
    "    tokens = [word for word in tokens if len(word)>1]\n",
    "    return tokens"
   ]
  },
  {
   "cell_type": "code",
   "execution_count": 94,
   "metadata": {},
   "outputs": [],
   "source": [
    "def add_doc_to_vocab(filename,vocab):\n",
    "    doc = load_doc(filename)\n",
    "    tokens = clean_doc(doc)\n",
    "    vocab.update(tokens)"
   ]
  },
  {
   "cell_type": "code",
   "execution_count": 95,
   "metadata": {},
   "outputs": [],
   "source": [
    "def process_docs(directory, vocab):\n",
    "    for filename in listdir(directory):\n",
    "        if not filename.endswith('.txt'):\n",
    "            continue\n",
    "        path = directory+'/'+filename\n",
    "        add_doc_to_vocab(path, vocab)"
   ]
  },
  {
   "cell_type": "code",
   "execution_count": 96,
   "metadata": {},
   "outputs": [],
   "source": [
    "vocab = Counter()\n",
    "process_docs('txt_sentoken/neg', vocab)\n",
    "process_docs('txt_sentoken/pos', vocab)"
   ]
  },
  {
   "cell_type": "code",
   "execution_count": 97,
   "metadata": {},
   "outputs": [],
   "source": [
    "#Drop tokens with low occurence\n",
    "min_occurance = 5\n",
    "tokens = [k for k,c in vocab.items() if c>=min_occurance]\n"
   ]
  },
  {
   "cell_type": "code",
   "execution_count": 98,
   "metadata": {},
   "outputs": [],
   "source": [
    "def save_list(lines, filename):\n",
    "    data = '\\n'.join(lines)\n",
    "    file = open(filename, 'w')\n",
    "    file.write(data)\n",
    "    file.close()"
   ]
  },
  {
   "cell_type": "code",
   "execution_count": 99,
   "metadata": {},
   "outputs": [],
   "source": [
    "save_list(tokens,'vocab.txt')"
   ]
  },
  {
   "cell_type": "code",
   "execution_count": null,
   "metadata": {},
   "outputs": [],
   "source": []
  },
  {
   "cell_type": "code",
   "execution_count": null,
   "metadata": {},
   "outputs": [],
   "source": []
  },
  {
   "cell_type": "code",
   "execution_count": 100,
   "metadata": {},
   "outputs": [],
   "source": [
    "vocab_filename = 'vocab.txt'\n",
    "vocab = load_doc(vocab_filename)\n",
    "vocab = vocab.split()\n",
    "vocab = set(vocab)"
   ]
  },
  {
   "cell_type": "code",
   "execution_count": 101,
   "metadata": {},
   "outputs": [],
   "source": [
    "# load doc, clean and return line of tokens\n",
    "def doc_to_line(filename, vocab):\n",
    "    # load the doc\n",
    "    doc = load_doc(filename)\n",
    "    # clean doc\n",
    "    tokens = clean_doc(doc)\n",
    "    # filter by vocab\n",
    "    tokens = [w for w in tokens if w in vocab]\n",
    "    return ' '.join(tokens)"
   ]
  },
  {
   "cell_type": "code",
   "execution_count": 102,
   "metadata": {},
   "outputs": [],
   "source": [
    "#Load the reviews to pandas\n",
    "def get_line(directory,vocab,target):\n",
    "    lines = []\n",
    "    churn = []\n",
    "    #walk through all files in folder\n",
    "    for filename in listdir(directory):\n",
    "        #skip files that do not have right extension\n",
    "        if not filename.endswith(\".txt\"):\n",
    "            continue\n",
    "        #Create path to file to open\n",
    "        path = directory+'/'+filename\n",
    "        #load and clean the doc\n",
    "        line = doc_to_line(path,vocab)\n",
    "        lines.append(line)\n",
    "        churn.append(target)\n",
    "    return lines,churn"
   ]
  },
  {
   "cell_type": "code",
   "execution_count": 103,
   "metadata": {},
   "outputs": [],
   "source": [
    "negative_lines,negative_churn = get_line('txt_sentoken/neg', vocab, 0)"
   ]
  },
  {
   "cell_type": "code",
   "execution_count": 104,
   "metadata": {},
   "outputs": [],
   "source": [
    "positive_lines, positive_churn = get_line('txt_sentoken/pos', vocab, 1)"
   ]
  },
  {
   "cell_type": "code",
   "execution_count": 105,
   "metadata": {},
   "outputs": [],
   "source": [
    "import pandas as pd"
   ]
  },
  {
   "cell_type": "code",
   "execution_count": 106,
   "metadata": {},
   "outputs": [],
   "source": [
    "df = pd.DataFrame({\"text\": negative_lines+positive_lines,\"target\":negative_churn+positive_churn})"
   ]
  },
  {
   "cell_type": "code",
   "execution_count": 107,
   "metadata": {},
   "outputs": [
    {
     "data": {
      "text/html": [
       "<div>\n",
       "<style scoped>\n",
       "    .dataframe tbody tr th:only-of-type {\n",
       "        vertical-align: middle;\n",
       "    }\n",
       "\n",
       "    .dataframe tbody tr th {\n",
       "        vertical-align: top;\n",
       "    }\n",
       "\n",
       "    .dataframe thead th {\n",
       "        text-align: right;\n",
       "    }\n",
       "</style>\n",
       "<table border=\"1\" class=\"dataframe\">\n",
       "  <thead>\n",
       "    <tr style=\"text-align: right;\">\n",
       "      <th></th>\n",
       "      <th>target</th>\n",
       "      <th>text</th>\n",
       "    </tr>\n",
       "  </thead>\n",
       "  <tbody>\n",
       "    <tr>\n",
       "      <th>0</th>\n",
       "      <td>0</td>\n",
       "      <td>senseless marlon wayans talented physical come...</td>\n",
       "    </tr>\n",
       "    <tr>\n",
       "      <th>1</th>\n",
       "      <td>0</td>\n",
       "      <td>last summer featurelength version avengers hit...</td>\n",
       "    </tr>\n",
       "    <tr>\n",
       "      <th>2</th>\n",
       "      <td>0</td>\n",
       "      <td>synopsis mentally unstable man saves boy poten...</td>\n",
       "    </tr>\n",
       "    <tr>\n",
       "      <th>3</th>\n",
       "      <td>0</td>\n",
       "      <td>film features richard lynch role chief villain...</td>\n",
       "    </tr>\n",
       "    <tr>\n",
       "      <th>4</th>\n",
       "      <td>0</td>\n",
       "      <td>inner flag last year nick pulled dragnet rerun...</td>\n",
       "    </tr>\n",
       "  </tbody>\n",
       "</table>\n",
       "</div>"
      ],
      "text/plain": [
       "   target                                               text\n",
       "0       0  senseless marlon wayans talented physical come...\n",
       "1       0  last summer featurelength version avengers hit...\n",
       "2       0  synopsis mentally unstable man saves boy poten...\n",
       "3       0  film features richard lynch role chief villain...\n",
       "4       0  inner flag last year nick pulled dragnet rerun..."
      ]
     },
     "execution_count": 107,
     "metadata": {},
     "output_type": "execute_result"
    }
   ],
   "source": [
    "df.head()"
   ]
  },
  {
   "cell_type": "code",
   "execution_count": 108,
   "metadata": {},
   "outputs": [
    {
     "data": {
      "text/plain": [
       "(2000, 2)"
      ]
     },
     "execution_count": 108,
     "metadata": {},
     "output_type": "execute_result"
    }
   ],
   "source": [
    "df.shape"
   ]
  },
  {
   "cell_type": "code",
   "execution_count": 55,
   "metadata": {},
   "outputs": [],
   "source": [
    "from sklearn.feature_extraction.text import TfidfVectorizer\n",
    "tfidfconverter = TfidfVectorizer(max_features=2000,min_df=5,max_df=0.7,stop_words=stopwords.words('english'))\n",
    "X = tfidfconverter.fit_transform(negative_lines+positive_lines).toarray()"
   ]
  },
  {
   "cell_type": "code",
   "execution_count": 117,
   "metadata": {},
   "outputs": [],
   "source": [
    "y = negative_churn+positive_churn"
   ]
  },
  {
   "cell_type": "code",
   "execution_count": 110,
   "metadata": {},
   "outputs": [],
   "source": [
    "from sklearn.model_selection import train_test_split"
   ]
  },
  {
   "cell_type": "code",
   "execution_count": 120,
   "metadata": {},
   "outputs": [
    {
     "data": {
      "text/plain": [
       "array([[0.        , 0.04331571, 0.        , ..., 0.        , 0.        ,\n",
       "        0.        ],\n",
       "       [0.        , 0.        , 0.        , ..., 0.        , 0.        ,\n",
       "        0.        ],\n",
       "       [0.        , 0.0432542 , 0.        , ..., 0.        , 0.0526548 ,\n",
       "        0.        ],\n",
       "       ...,\n",
       "       [0.05707585, 0.        , 0.        , ..., 0.        , 0.        ,\n",
       "        0.        ],\n",
       "       [0.        , 0.        , 0.        , ..., 0.        , 0.        ,\n",
       "        0.        ],\n",
       "       [0.        , 0.04796114, 0.        , ..., 0.        , 0.        ,\n",
       "        0.        ]])"
      ]
     },
     "execution_count": 120,
     "metadata": {},
     "output_type": "execute_result"
    }
   ],
   "source": [
    "X_train,X_test,y_train,y_test = train_test_split(X,y,test_size=0.2,random_state=0)"
   ]
  },
  {
   "cell_type": "code",
   "execution_count": 63,
   "metadata": {},
   "outputs": [
    {
     "data": {
      "text/plain": [
       "RandomForestClassifier(bootstrap=True, class_weight=None, criterion='gini',\n",
       "            max_depth=None, max_features='auto', max_leaf_nodes=None,\n",
       "            min_impurity_decrease=0.0, min_impurity_split=None,\n",
       "            min_samples_leaf=1, min_samples_split=2,\n",
       "            min_weight_fraction_leaf=0.0, n_estimators=100, n_jobs=None,\n",
       "            oob_score=False, random_state=0, verbose=0, warm_start=False)"
      ]
     },
     "execution_count": 63,
     "metadata": {},
     "output_type": "execute_result"
    }
   ],
   "source": [
    "from sklearn.ensemble import RandomForestClassifier\n",
    "text_classifier = RandomForestClassifier(n_estimators=100,random_state=0)\n",
    "text_classifier.fit(X_train,y_train)"
   ]
  },
  {
   "cell_type": "code",
   "execution_count": 64,
   "metadata": {},
   "outputs": [],
   "source": [
    "predictions = text_classifier.predict(X_test)"
   ]
  },
  {
   "cell_type": "code",
   "execution_count": 65,
   "metadata": {},
   "outputs": [],
   "source": [
    "from sklearn.metrics import classification_report, confusion_matrix,accuracy_score"
   ]
  },
  {
   "cell_type": "code",
   "execution_count": 66,
   "metadata": {},
   "outputs": [
    {
     "name": "stdout",
     "output_type": "stream",
     "text": [
      "[[174  26]\n",
      " [ 48 152]]\n",
      "              precision    recall  f1-score   support\n",
      "\n",
      "           0       0.78      0.87      0.82       200\n",
      "           1       0.85      0.76      0.80       200\n",
      "\n",
      "   micro avg       0.81      0.81      0.81       400\n",
      "   macro avg       0.82      0.81      0.81       400\n",
      "weighted avg       0.82      0.81      0.81       400\n",
      "\n",
      "0.815\n"
     ]
    }
   ],
   "source": [
    "print(confusion_matrix(y_test,predictions))\n",
    "print(classification_report(y_test,predictions))\n",
    "print(accuracy_score(y_test,predictions))"
   ]
  },
  {
   "cell_type": "code",
   "execution_count": 73,
   "metadata": {},
   "outputs": [
    {
     "data": {
      "text/plain": [
       "SVC(C=1.0, cache_size=200, class_weight=None, coef0=0.0,\n",
       "  decision_function_shape='ovr', degree=3, gamma='auto_deprecated',\n",
       "  kernel='linear', max_iter=-1, probability=False, random_state=None,\n",
       "  shrinking=True, tol=0.001, verbose=False)"
      ]
     },
     "execution_count": 73,
     "metadata": {},
     "output_type": "execute_result"
    }
   ],
   "source": [
    "from sklearn.svm import SVC\n",
    "svclassifier = SVC(kernel='linear')\n",
    "svclassifier.fit(X_train,y_train)"
   ]
  },
  {
   "cell_type": "code",
   "execution_count": 74,
   "metadata": {},
   "outputs": [],
   "source": [
    "y_pred = svclassifier.predict(X_test)"
   ]
  },
  {
   "cell_type": "code",
   "execution_count": 75,
   "metadata": {},
   "outputs": [
    {
     "name": "stdout",
     "output_type": "stream",
     "text": [
      "[[165  35]\n",
      " [ 29 171]]\n",
      "              precision    recall  f1-score   support\n",
      "\n",
      "           0       0.85      0.82      0.84       200\n",
      "           1       0.83      0.85      0.84       200\n",
      "\n",
      "   micro avg       0.84      0.84      0.84       400\n",
      "   macro avg       0.84      0.84      0.84       400\n",
      "weighted avg       0.84      0.84      0.84       400\n",
      "\n",
      "0.84\n"
     ]
    }
   ],
   "source": [
    "print(confusion_matrix(y_test,y_pred))\n",
    "print(classification_report(y_test,y_pred))\n",
    "print(accuracy_score(y_test,y_pred))"
   ]
  },
  {
   "cell_type": "code",
   "execution_count": 153,
   "metadata": {},
   "outputs": [],
   "source": [
    "import numpy as np\n",
    "from keras.models import Sequential\n",
    "from keras.layers import Dense\n",
    "from keras.layers import Flatten\n",
    "from keras.layers.embeddings import Embedding\n",
    "from keras.preprocessing.sequence import pad_sequences\n",
    "from keras.layers.core import Activation,Dropout\n",
    "from keras.preprocessing.text import Tokenizer,one_hot\n",
    "from keras.layers import GlobalMaxPooling1D\n",
    "from keras.layers import Conv1D,LSTM"
   ]
  },
  {
   "cell_type": "code",
   "execution_count": 128,
   "metadata": {},
   "outputs": [],
   "source": [
    "X = negative_lines+positive_lines\n",
    "Y = np.array(negative_churn+positive_churn)\n",
    "\n",
    "X_train,X_test,y_train,y_test = train_test_split(X,y,test_size=0.20,random_state=42)"
   ]
  },
  {
   "cell_type": "code",
   "execution_count": 131,
   "metadata": {},
   "outputs": [],
   "source": [
    "tokenizer = Tokenizer(num_words=5000)\n",
    "tokenizer.fit_on_texts(X_train)\n",
    "\n",
    "X_train = tokenizer.texts_to_sequences(X_train)\n",
    "X_test = tokenizer.texts_to_sequences(X_test)"
   ]
  },
  {
   "cell_type": "code",
   "execution_count": 134,
   "metadata": {},
   "outputs": [],
   "source": [
    "#Adding one because of reserved zero index\n",
    "vocab_size = len(tokenizer.word_index)+1\n",
    "max_len = 100\n",
    "\n",
    "X_train = pad_sequences(X_train,padding='post', maxlen=max_len)\n",
    "X_test = pad_sequences(X_test,padding='post',maxlen=max_len)"
   ]
  },
  {
   "cell_type": "code",
   "execution_count": 135,
   "metadata": {},
   "outputs": [],
   "source": [
    "from numpy import array\n",
    "from numpy import asarray\n",
    "from numpy import zeros"
   ]
  },
  {
   "cell_type": "code",
   "execution_count": 136,
   "metadata": {},
   "outputs": [],
   "source": [
    "embeddings_dictionary = dict()\n",
    "glove_file = open('glove.6B.100d.txt', encoding='utf-8')\n",
    "\n",
    "for line in glove_file:\n",
    "    records = line.split()\n",
    "    word = records[0]\n",
    "    vector_dimensions = asarray(records[1:], dtype='float32')\n",
    "    embeddings_dictionary[word] = vector_dimensions\n",
    "glove_file.close()"
   ]
  },
  {
   "cell_type": "code",
   "execution_count": 137,
   "metadata": {},
   "outputs": [],
   "source": [
    "embedding_matrix = zeros((vocab_size,100))\n",
    "for word,index in tokenizer.word_index.items():\n",
    "    embedding_vector = embeddings_dictionary.get(word)\n",
    "    if embedding_vector is not None:\n",
    "        embedding_matrix[index] = embedding_vector"
   ]
  },
  {
   "cell_type": "code",
   "execution_count": 138,
   "metadata": {},
   "outputs": [],
   "source": [
    "#Creating the neural networks\n",
    "model = Sequential()\n",
    "embedding_layer = Embedding(vocab_size,100,weights=[embedding_matrix],input_length=max_len, trainable=False)\n",
    "model.add(embedding_layer)\n",
    "model.add(Flatten())\n",
    "model.add(Dense(1,activation='sigmoid'))"
   ]
  },
  {
   "cell_type": "code",
   "execution_count": 139,
   "metadata": {},
   "outputs": [
    {
     "name": "stdout",
     "output_type": "stream",
     "text": [
      "_________________________________________________________________\n",
      "Layer (type)                 Output Shape              Param #   \n",
      "=================================================================\n",
      "embedding_2 (Embedding)      (None, 100, 100)          1475600   \n",
      "_________________________________________________________________\n",
      "flatten_1 (Flatten)          (None, 10000)             0         \n",
      "_________________________________________________________________\n",
      "dense_1 (Dense)              (None, 1)                 10001     \n",
      "=================================================================\n",
      "Total params: 1,485,601\n",
      "Trainable params: 10,001\n",
      "Non-trainable params: 1,475,600\n",
      "_________________________________________________________________\n",
      "None\n"
     ]
    }
   ],
   "source": [
    "model.compile(optimizer='adam',loss='binary_crossentropy', metrics=['acc'])\n",
    "print(model.summary())"
   ]
  },
  {
   "cell_type": "code",
   "execution_count": 141,
   "metadata": {
    "scrolled": true
   },
   "outputs": [
    {
     "name": "stdout",
     "output_type": "stream",
     "text": [
      "Train on 1280 samples, validate on 320 samples\n",
      "Epoch 1/20\n",
      "1280/1280 [==============================] - 0s 79us/step - loss: 0.2014 - acc: 0.9898 - val_loss: 0.6465 - val_acc: 0.6438\n",
      "Epoch 2/20\n",
      "1280/1280 [==============================] - 0s 40us/step - loss: 0.1786 - acc: 0.9953 - val_loss: 0.6897 - val_acc: 0.6281\n",
      "Epoch 3/20\n",
      "1280/1280 [==============================] - 0s 42us/step - loss: 0.1580 - acc: 0.9953 - val_loss: 0.6646 - val_acc: 0.6375\n",
      "Epoch 4/20\n",
      "1280/1280 [==============================] - 0s 33us/step - loss: 0.1380 - acc: 1.0000 - val_loss: 0.6438 - val_acc: 0.6625\n",
      "Epoch 5/20\n",
      "1280/1280 [==============================] - 0s 39us/step - loss: 0.1212 - acc: 1.0000 - val_loss: 0.6529 - val_acc: 0.6594\n",
      "Epoch 6/20\n",
      "1280/1280 [==============================] - 0s 35us/step - loss: 0.1094 - acc: 1.0000 - val_loss: 0.6681 - val_acc: 0.6500\n",
      "Epoch 7/20\n",
      "1280/1280 [==============================] - 0s 53us/step - loss: 0.0994 - acc: 1.0000 - val_loss: 0.6581 - val_acc: 0.6594\n",
      "Epoch 8/20\n",
      "1280/1280 [==============================] - 0s 33us/step - loss: 0.0905 - acc: 1.0000 - val_loss: 0.6690 - val_acc: 0.6500\n",
      "Epoch 9/20\n",
      "1280/1280 [==============================] - 0s 43us/step - loss: 0.0830 - acc: 1.0000 - val_loss: 0.6713 - val_acc: 0.6500\n",
      "Epoch 10/20\n",
      "1280/1280 [==============================] - 0s 42us/step - loss: 0.0763 - acc: 1.0000 - val_loss: 0.6770 - val_acc: 0.6500\n",
      "Epoch 11/20\n",
      "1280/1280 [==============================] - 0s 54us/step - loss: 0.0704 - acc: 1.0000 - val_loss: 0.6769 - val_acc: 0.6500\n",
      "Epoch 12/20\n",
      "1280/1280 [==============================] - 0s 34us/step - loss: 0.0656 - acc: 1.0000 - val_loss: 0.6885 - val_acc: 0.6438\n",
      "Epoch 13/20\n",
      "1280/1280 [==============================] - 0s 42us/step - loss: 0.0609 - acc: 1.0000 - val_loss: 0.6907 - val_acc: 0.6500\n",
      "Epoch 14/20\n",
      "1280/1280 [==============================] - 0s 31us/step - loss: 0.0568 - acc: 1.0000 - val_loss: 0.6916 - val_acc: 0.6531\n",
      "Epoch 15/20\n",
      "1280/1280 [==============================] - 0s 48us/step - loss: 0.0531 - acc: 1.0000 - val_loss: 0.7019 - val_acc: 0.6438\n",
      "Epoch 16/20\n",
      "1280/1280 [==============================] - 0s 44us/step - loss: 0.0500 - acc: 1.0000 - val_loss: 0.6957 - val_acc: 0.6469\n",
      "Epoch 17/20\n",
      "1280/1280 [==============================] - 0s 47us/step - loss: 0.0468 - acc: 1.0000 - val_loss: 0.7133 - val_acc: 0.6562\n",
      "Epoch 18/20\n",
      "1280/1280 [==============================] - 0s 43us/step - loss: 0.0442 - acc: 1.0000 - val_loss: 0.7019 - val_acc: 0.6469\n",
      "Epoch 19/20\n",
      "1280/1280 [==============================] - 0s 55us/step - loss: 0.0417 - acc: 1.0000 - val_loss: 0.7169 - val_acc: 0.6500\n",
      "Epoch 20/20\n",
      "1280/1280 [==============================] - 0s 44us/step - loss: 0.0394 - acc: 1.0000 - val_loss: 0.7143 - val_acc: 0.6438\n"
     ]
    }
   ],
   "source": [
    "history = model.fit(X_train,y_train,batch_size=128,epochs=20,verbose=1,validation_split=0.2)"
   ]
  },
  {
   "cell_type": "code",
   "execution_count": 145,
   "metadata": {},
   "outputs": [
    {
     "data": {
      "image/png": "[encoded data removed]",
      "text/plain": [
       "<Figure size 432x288 with 1 Axes>"
      ]
     },
     "metadata": {
      "needs_background": "light"
     },
     "output_type": "display_data"
    },
    {
     "data": {
      "image/png": "[encoded data removed]",
      "text/plain": [
       "<Figure size 432x288 with 1 Axes>"
      ]
     },
     "metadata": {
      "needs_background": "light"
     },
     "output_type": "display_data"
    }
   ],
   "source": [
    "\n",
    "plt.plot(history.history['acc'])\n",
    "plt.plot(history.history['val_acc'])\n",
    "\n",
    "plt.title('model accuracy')\n",
    "plt.ylabel('accuracy')\n",
    "plt.xlabel('epoch')\n",
    "plt.legend(['train','test'], loc='upper left')\n",
    "plt.show()\n",
    "\n",
    "plt.plot(history.history['loss'])\n",
    "plt.plot(history.history['val_loss'])\n",
    "\n",
    "plt.title('model loss')\n",
    "plt.ylabel('loss')\n",
    "plt.xlabel('epoch')\n",
    "plt.legend(['train','test'], loc='upper left')\n",
    "plt.show()"
   ]
  },
  {
   "cell_type": "code",
   "execution_count": 148,
   "metadata": {},
   "outputs": [],
   "source": [
    "model = Sequential()\n",
    "\n",
    "embedding_layer = Embedding(vocab_size,100,weights=[embedding_matrix],input_length=max_len,trainable=False)\n",
    "model.add(embedding_layer)\n",
    "model.add(Conv1D(128,5,activation='relu'))\n",
    "model.add(GlobalMaxPooling1D())\n",
    "model.add(Dense(1,activation='sigmoid'))\n",
    "model.compile(optimizer='adam',loss='binary_crossentropy', metrics=['acc'])"
   ]
  },
  {
   "cell_type": "code",
   "execution_count": 149,
   "metadata": {},
   "outputs": [
    {
     "name": "stdout",
     "output_type": "stream",
     "text": [
      "_________________________________________________________________\n",
      "Layer (type)                 Output Shape              Param #   \n",
      "=================================================================\n",
      "embedding_4 (Embedding)      (None, 100, 100)          1475600   \n",
      "_________________________________________________________________\n",
      "conv1d_1 (Conv1D)            (None, 96, 128)           64128     \n",
      "_________________________________________________________________\n",
      "global_max_pooling1d_1 (Glob (None, 128)               0         \n",
      "_________________________________________________________________\n",
      "dense_2 (Dense)              (None, 1)                 129       \n",
      "=================================================================\n",
      "Total params: 1,539,857\n",
      "Trainable params: 64,257\n",
      "Non-trainable params: 1,475,600\n",
      "_________________________________________________________________\n",
      "None\n"
     ]
    }
   ],
   "source": [
    "print(model.summary())"
   ]
  },
  {
   "cell_type": "code",
   "execution_count": 150,
   "metadata": {},
   "outputs": [
    {
     "name": "stdout",
     "output_type": "stream",
     "text": [
      "Train on 1280 samples, validate on 320 samples\n",
      "Epoch 1/6\n",
      "1280/1280 [==============================] - 2s 2ms/step - loss: 0.7103 - acc: 0.5281 - val_loss: 0.6510 - val_acc: 0.6250\n",
      "Epoch 2/6\n",
      "1280/1280 [==============================] - 1s 1ms/step - loss: 0.5741 - acc: 0.7523 - val_loss: 0.6241 - val_acc: 0.6813\n",
      "Epoch 3/6\n",
      "1280/1280 [==============================] - 1s 1ms/step - loss: 0.5062 - acc: 0.8211 - val_loss: 0.6108 - val_acc: 0.6719\n",
      "Epoch 4/6\n",
      "1280/1280 [==============================] - 1s 1ms/step - loss: 0.4418 - acc: 0.9055 - val_loss: 0.5992 - val_acc: 0.6937\n",
      "Epoch 5/6\n",
      "1280/1280 [==============================] - 1s 1ms/step - loss: 0.3923 - acc: 0.9477 - val_loss: 0.5973 - val_acc: 0.6844\n",
      "Epoch 6/6\n",
      "1280/1280 [==============================] - 1s 1ms/step - loss: 0.3534 - acc: 0.9734 - val_loss: 0.5913 - val_acc: 0.6781\n",
      "400/400 [==============================] - 0s 423us/step\n"
     ]
    }
   ],
   "source": [
    "history = model.fit(X_train,y_train,batch_size=128,epochs=6,verbose=1,validation_split=0.2)\n",
    "score = model.evaluate(X_test,y_test,verbose=1)"
   ]
  },
  {
   "cell_type": "code",
   "execution_count": 151,
   "metadata": {},
   "outputs": [
    {
     "data": {
      "image/png": "[encoded data removed]",
      "text/plain": [
       "<Figure size 432x288 with 1 Axes>"
      ]
     },
     "metadata": {
      "needs_background": "light"
     },
     "output_type": "display_data"
    },
    {
     "data": {
      "image/png": "[encoded data removed]",
      "text/plain": [
       "<Figure size 432x288 with 1 Axes>"
      ]
     },
     "metadata": {
      "needs_background": "light"
     },
     "output_type": "display_data"
    }
   ],
   "source": [
    "plt.plot(history.history['acc'])\n",
    "plt.plot(history.history['val_acc'])\n",
    "\n",
    "plt.title('model accuracy')\n",
    "plt.ylabel('accuracy')\n",
    "plt.xlabel('epoch')\n",
    "plt.legend(['train','test'], loc = 'upper left')\n",
    "plt.show()\n",
    "\n",
    "plt.plot(history.history['loss'])\n",
    "plt.plot(history.history['val_loss'])\n",
    "\n",
    "plt.title('model loss')\n",
    "plt.ylabel('loss')\n",
    "plt.xlabel('epoch')\n",
    "plt.legend(['train','test'], loc = 'upper left')\n",
    "plt.show()\n"
   ]
  },
  {
   "cell_type": "code",
   "execution_count": 154,
   "metadata": {},
   "outputs": [],
   "source": [
    "#Building a RNN\n",
    "model = Sequential()\n",
    "embedding_layer = Embedding(vocab_size,100,weights=[embedding_matrix],input_length=max_len,trainable=False)\n",
    "model.add(embedding_layer)\n",
    "model.add(LSTM(128))\n",
    "model.add(Dense(1,activation='sigmoid'))\n",
    "model.compile(optimizer='adam',loss='binary_crossentropy', metrics=['acc'])"
   ]
  },
  {
   "cell_type": "code",
   "execution_count": 155,
   "metadata": {},
   "outputs": [
    {
     "name": "stdout",
     "output_type": "stream",
     "text": [
      "Epoch 1/10\n",
      "1600/1600 [==============================] - 18s 11ms/step - loss: 0.6484 - acc: 0.6125\n",
      "Epoch 2/10\n",
      "1600/1600 [==============================] - 17s 11ms/step - loss: 0.6061 - acc: 0.6850\n",
      "Epoch 3/10\n",
      "1600/1600 [==============================] - 18s 11ms/step - loss: 0.5836 - acc: 0.7163\n",
      "Epoch 4/10\n",
      "1600/1600 [==============================] - 18s 11ms/step - loss: 0.5222 - acc: 0.7450\n",
      "Epoch 5/10\n",
      "1600/1600 [==============================] - 19s 12ms/step - loss: 0.4921 - acc: 0.7588\n",
      "Epoch 6/10\n",
      "1600/1600 [==============================] - 18s 12ms/step - loss: 0.4879 - acc: 0.7719\n",
      "Epoch 7/10\n",
      "1600/1600 [==============================] - 18s 11ms/step - loss: 0.4298 - acc: 0.8031\n",
      "Epoch 8/10\n",
      "1600/1600 [==============================] - 18s 11ms/step - loss: 0.3867 - acc: 0.8263\n",
      "Epoch 9/10\n",
      "1600/1600 [==============================] - 18s 11ms/step - loss: 0.3593 - acc: 0.8444\n",
      "Epoch 10/10\n",
      "1600/1600 [==============================] - 18s 11ms/step - loss: 0.3604 - acc: 0.8431\n",
      "400/400 [==============================] - 1s 2ms/step\n"
     ]
    }
   ],
   "source": [
    "model.fit(X_train,y_train,batch_size=16,epochs=10)\n",
    "score = model.evaluate(X_test,y_test,batch_size=16)"
   ]
  },
  {
   "cell_type": "code",
   "execution_count": null,
   "metadata": {},
   "outputs": [],
   "source": []
  }
 ],
 "metadata": {
  "kernelspec": {
   "display_name": "Python 3",
   "language": "python",
   "name": "python3"
  },
  "language_info": {
   "codemirror_mode": {
    "name": "ipython",
    "version": 3
   },
   "file_extension": ".py",
   "mimetype": "text/x-python",
   "name": "python",
   "nbconvert_exporter": "python",
   "pygments_lexer": "ipython3",
   "version": "3.5.6"
  }
 },
 "nbformat": 4,
 "nbformat_minor": 2
}
